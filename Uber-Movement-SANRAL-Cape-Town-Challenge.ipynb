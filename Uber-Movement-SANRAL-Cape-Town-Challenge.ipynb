{
  "nbformat": 4,
  "nbformat_minor": 0,
  "metadata": {
    "colab": {
      "name": "hackathon.ipynb",
      "provenance": [],
      "collapsed_sections": []
    },
    "kernelspec": {
      "name": "python3",
      "display_name": "Python 3"
    }
  },
  "cells": [
    {
      "cell_type": "code",
      "metadata": {
        "id": "xVqSZqsVF18J",
        "colab_type": "code",
        "colab": {}
      },
      "source": [
        "import pandas as pd\n",
        "import numpy as np\n",
        "import matplotlib.pyplot as plt\n",
        "import folium\n",
        "import torch\n",
        "import torch.nn as nn\n",
        "import torch.nn.functional as F\n",
        "import torch.optim as optim\n",
        "from torchvision import datasets, transforms\n",
        "from torch.autograd import Variable"
      ],
      "execution_count": 0,
      "outputs": []
    },
    {
      "cell_type": "code",
      "metadata": {
        "id": "NLFl05HjKqtM",
        "colab_type": "code",
        "outputId": "9eec529e-c5e2-4ed0-e3a7-5563311cce7f",
        "colab": {
          "base_uri": "https://localhost:8080/",
          "height": 495
        }
      },
      "source": [
        "df=pd.read_csv('/content/train.csv')\n",
        "df.head(10)"
      ],
      "execution_count": 0,
      "outputs": [
        {
          "output_type": "execute_result",
          "data": {
            "text/html": [
              "<div>\n",
              "<style scoped>\n",
              "    .dataframe tbody tr th:only-of-type {\n",
              "        vertical-align: middle;\n",
              "    }\n",
              "\n",
              "    .dataframe tbody tr th {\n",
              "        vertical-align: top;\n",
              "    }\n",
              "\n",
              "    .dataframe thead th {\n",
              "        text-align: right;\n",
              "    }\n",
              "</style>\n",
              "<table border=\"1\" class=\"dataframe\">\n",
              "  <thead>\n",
              "    <tr style=\"text-align: right;\">\n",
              "      <th></th>\n",
              "      <th>EventId</th>\n",
              "      <th>Occurrence Local Date Time</th>\n",
              "      <th>Reporting Agency</th>\n",
              "      <th>Cause</th>\n",
              "      <th>Subcause</th>\n",
              "      <th>Status</th>\n",
              "      <th>longitude</th>\n",
              "      <th>latitude</th>\n",
              "      <th>road_segment_id</th>\n",
              "    </tr>\n",
              "  </thead>\n",
              "  <tbody>\n",
              "    <tr>\n",
              "      <th>0</th>\n",
              "      <td>60558</td>\n",
              "      <td>01/01/16 00:53</td>\n",
              "      <td>Cam</td>\n",
              "      <td>Stationary Vehicle</td>\n",
              "      <td>Vehicle On Shoulder</td>\n",
              "      <td>Closed</td>\n",
              "      <td>18.5408955032</td>\n",
              "      <td>-33.888275</td>\n",
              "      <td>S0B3CGQ</td>\n",
              "    </tr>\n",
              "    <tr>\n",
              "      <th>1</th>\n",
              "      <td>60559</td>\n",
              "      <td>01/01/16 00:54</td>\n",
              "      <td>CAMERA</td>\n",
              "      <td>Accident</td>\n",
              "      <td>With A Fixed Object</td>\n",
              "      <td>Closed</td>\n",
              "      <td>18.9307563219</td>\n",
              "      <td>-34.140857</td>\n",
              "      <td>RYJYAPI</td>\n",
              "    </tr>\n",
              "    <tr>\n",
              "      <th>2</th>\n",
              "      <td>60560</td>\n",
              "      <td>01/01/16 02:26</td>\n",
              "      <td>Law Enforcement</td>\n",
              "      <td>Accident</td>\n",
              "      <td>Multi Vehicle</td>\n",
              "      <td>Closed</td>\n",
              "      <td>18.5533575029</td>\n",
              "      <td>-33.959154</td>\n",
              "      <td>U3KP57C</td>\n",
              "    </tr>\n",
              "    <tr>\n",
              "      <th>3</th>\n",
              "      <td>60561</td>\n",
              "      <td>01/01/16 02:56</td>\n",
              "      <td>CAMERA</td>\n",
              "      <td>Stationary Vehicle</td>\n",
              "      <td>Vehicle On Shoulder</td>\n",
              "      <td>Closed</td>\n",
              "      <td>18.6775561589</td>\n",
              "      <td>-33.895258</td>\n",
              "      <td>RY0TRQ8</td>\n",
              "    </tr>\n",
              "    <tr>\n",
              "      <th>4</th>\n",
              "      <td>60562</td>\n",
              "      <td>01/01/16 03:40</td>\n",
              "      <td>CAMERA</td>\n",
              "      <td>Accident</td>\n",
              "      <td>Multi Vehicle</td>\n",
              "      <td>Closed</td>\n",
              "      <td>18.8371319682</td>\n",
              "      <td>-34.087051</td>\n",
              "      <td>8LOVJZ3</td>\n",
              "    </tr>\n",
              "    <tr>\n",
              "      <th>5</th>\n",
              "      <td>60564</td>\n",
              "      <td>01/01/16 06:32</td>\n",
              "      <td>NaN</td>\n",
              "      <td>Stationary Vehicle</td>\n",
              "      <td>Vehicle On Shoulder</td>\n",
              "      <td>Closed</td>\n",
              "      <td>18.6384711081</td>\n",
              "      <td>-33.885498</td>\n",
              "      <td>X4UA382</td>\n",
              "    </tr>\n",
              "    <tr>\n",
              "      <th>6</th>\n",
              "      <td>60565</td>\n",
              "      <td>01/01/16 07:05</td>\n",
              "      <td>camera</td>\n",
              "      <td>Accident</td>\n",
              "      <td>Single Vehicle</td>\n",
              "      <td>Closed</td>\n",
              "      <td>18.4637854567</td>\n",
              "      <td>-33.943158</td>\n",
              "      <td>0QR8FDW</td>\n",
              "    </tr>\n",
              "    <tr>\n",
              "      <th>7</th>\n",
              "      <td>60567</td>\n",
              "      <td>01/01/16 07:39</td>\n",
              "      <td>camera</td>\n",
              "      <td>Police and Military</td>\n",
              "      <td>Road Rage</td>\n",
              "      <td>Closed</td>\n",
              "      <td>18.6359671258</td>\n",
              "      <td>-34.002366</td>\n",
              "      <td>DZABHQW</td>\n",
              "    </tr>\n",
              "    <tr>\n",
              "      <th>8</th>\n",
              "      <td>60568</td>\n",
              "      <td>01/01/16 08:00</td>\n",
              "      <td>camera</td>\n",
              "      <td>Stationary Vehicle</td>\n",
              "      <td>Vehicle On Shoulder</td>\n",
              "      <td>Closed</td>\n",
              "      <td>18.6350138684</td>\n",
              "      <td>-34.002237</td>\n",
              "      <td>EKZN1VM</td>\n",
              "    </tr>\n",
              "    <tr>\n",
              "      <th>9</th>\n",
              "      <td>60569</td>\n",
              "      <td>01/01/16 08:44</td>\n",
              "      <td>SAPS</td>\n",
              "      <td>Accident</td>\n",
              "      <td>Single Vehicle</td>\n",
              "      <td>Closed</td>\n",
              "      <td>18.4906240725</td>\n",
              "      <td>-33.949284</td>\n",
              "      <td>H9XYX9Q</td>\n",
              "    </tr>\n",
              "  </tbody>\n",
              "</table>\n",
              "</div>"
            ],
            "text/plain": [
              "   EventId Occurrence Local Date Time  ...   latitude road_segment_id\n",
              "0    60558             01/01/16 00:53  ... -33.888275         S0B3CGQ\n",
              "1    60559             01/01/16 00:54  ... -34.140857         RYJYAPI\n",
              "2    60560             01/01/16 02:26  ... -33.959154         U3KP57C\n",
              "3    60561             01/01/16 02:56  ... -33.895258         RY0TRQ8\n",
              "4    60562             01/01/16 03:40  ... -34.087051         8LOVJZ3\n",
              "5    60564             01/01/16 06:32  ... -33.885498         X4UA382\n",
              "6    60565             01/01/16 07:05  ... -33.943158         0QR8FDW\n",
              "7    60567             01/01/16 07:39  ... -34.002366         DZABHQW\n",
              "8    60568             01/01/16 08:00  ... -34.002237         EKZN1VM\n",
              "9    60569             01/01/16 08:44  ... -33.949284         H9XYX9Q\n",
              "\n",
              "[10 rows x 9 columns]"
            ]
          },
          "metadata": {
            "tags": []
          },
          "execution_count": 5
        }
      ]
    },
    {
      "cell_type": "code",
      "metadata": {
        "id": "Y1qHPPrYLHOb",
        "colab_type": "code",
        "outputId": "65e913c4-b99d-4fe0-a14c-a8c54cc2e4f0",
        "colab": {
          "base_uri": "https://localhost:8080/",
          "height": 269
        }
      },
      "source": [
        "df.info()"
      ],
      "execution_count": 0,
      "outputs": [
        {
          "output_type": "stream",
          "text": [
            "<class 'pandas.core.frame.DataFrame'>\n",
            "RangeIndex: 53845 entries, 0 to 53844\n",
            "Data columns (total 9 columns):\n",
            "EventId                       53845 non-null int64\n",
            "Occurrence Local Date Time    53845 non-null object\n",
            "Reporting Agency              52226 non-null object\n",
            "Cause                         53845 non-null object\n",
            "Subcause                      53845 non-null object\n",
            "Status                        53845 non-null object\n",
            "longitude                     53845 non-null object\n",
            "latitude                      53845 non-null float64\n",
            "road_segment_id               53845 non-null object\n",
            "dtypes: float64(1), int64(1), object(7)\n",
            "memory usage: 3.7+ MB\n"
          ],
          "name": "stdout"
        }
      ]
    },
    {
      "cell_type": "code",
      "metadata": {
        "id": "9X4nTHx8cBn7",
        "colab_type": "code",
        "colab": {}
      },
      "source": [
        "df.drop(['Reporting Agency'],axis=1,inplace=True)"
      ],
      "execution_count": 0,
      "outputs": []
    },
    {
      "cell_type": "code",
      "metadata": {
        "id": "2a8c3RHpZ3rn",
        "colab_type": "code",
        "colab": {}
      },
      "source": [
        "df['Occurrence Local Date Time']=pd.to_datetime(df['Occurrence Local Date Time'])"
      ],
      "execution_count": 0,
      "outputs": []
    },
    {
      "cell_type": "code",
      "metadata": {
        "id": "3MU5iaPVbGoP",
        "colab_type": "code",
        "colab": {}
      },
      "source": [
        "df['Occurrence Local Date Time']=df['Occurrence Local Date Time'].dt.strftime('%Y-%m-%d %H:00:00')"
      ],
      "execution_count": 0,
      "outputs": []
    },
    {
      "cell_type": "code",
      "metadata": {
        "id": "hLozE6GbLTsD",
        "colab_type": "code",
        "colab": {}
      },
      "source": [
        "df.longitude=pd.to_numeric(df.longitude,errors='coerce')"
      ],
      "execution_count": 0,
      "outputs": []
    },
    {
      "cell_type": "code",
      "metadata": {
        "id": "5veac0HyMD_1",
        "colab_type": "code",
        "outputId": "3aee472f-f73b-428d-f36e-82346999bb3f",
        "colab": {
          "base_uri": "https://localhost:8080/",
          "height": 297
        }
      },
      "source": [
        "df.describe()"
      ],
      "execution_count": 0,
      "outputs": [
        {
          "output_type": "execute_result",
          "data": {
            "text/html": [
              "<div>\n",
              "<style scoped>\n",
              "    .dataframe tbody tr th:only-of-type {\n",
              "        vertical-align: middle;\n",
              "    }\n",
              "\n",
              "    .dataframe tbody tr th {\n",
              "        vertical-align: top;\n",
              "    }\n",
              "\n",
              "    .dataframe thead th {\n",
              "        text-align: right;\n",
              "    }\n",
              "</style>\n",
              "<table border=\"1\" class=\"dataframe\">\n",
              "  <thead>\n",
              "    <tr style=\"text-align: right;\">\n",
              "      <th></th>\n",
              "      <th>EventId</th>\n",
              "      <th>longitude</th>\n",
              "      <th>latitude</th>\n",
              "    </tr>\n",
              "  </thead>\n",
              "  <tbody>\n",
              "    <tr>\n",
              "      <th>count</th>\n",
              "      <td>53845.000000</td>\n",
              "      <td>53840.000000</td>\n",
              "      <td>53845.000000</td>\n",
              "    </tr>\n",
              "    <tr>\n",
              "      <th>mean</th>\n",
              "      <td>106497.340403</td>\n",
              "      <td>18.604685</td>\n",
              "      <td>-33.947960</td>\n",
              "    </tr>\n",
              "    <tr>\n",
              "      <th>std</th>\n",
              "      <td>27960.354177</td>\n",
              "      <td>0.113499</td>\n",
              "      <td>0.511146</td>\n",
              "    </tr>\n",
              "    <tr>\n",
              "      <th>min</th>\n",
              "      <td>60558.000000</td>\n",
              "      <td>18.424719</td>\n",
              "      <td>-34.153087</td>\n",
              "    </tr>\n",
              "    <tr>\n",
              "      <th>25%</th>\n",
              "      <td>83043.000000</td>\n",
              "      <td>18.523640</td>\n",
              "      <td>-33.993621</td>\n",
              "    </tr>\n",
              "    <tr>\n",
              "      <th>50%</th>\n",
              "      <td>107083.000000</td>\n",
              "      <td>18.600709</td>\n",
              "      <td>-33.950250</td>\n",
              "    </tr>\n",
              "    <tr>\n",
              "      <th>75%</th>\n",
              "      <td>131294.000000</td>\n",
              "      <td>18.656355</td>\n",
              "      <td>-33.916789</td>\n",
              "    </tr>\n",
              "    <tr>\n",
              "      <th>max</th>\n",
              "      <td>152149.000000</td>\n",
              "      <td>19.149927</td>\n",
              "      <td>18.839681</td>\n",
              "    </tr>\n",
              "  </tbody>\n",
              "</table>\n",
              "</div>"
            ],
            "text/plain": [
              "             EventId     longitude      latitude\n",
              "count   53845.000000  53840.000000  53845.000000\n",
              "mean   106497.340403     18.604685    -33.947960\n",
              "std     27960.354177      0.113499      0.511146\n",
              "min     60558.000000     18.424719    -34.153087\n",
              "25%     83043.000000     18.523640    -33.993621\n",
              "50%    107083.000000     18.600709    -33.950250\n",
              "75%    131294.000000     18.656355    -33.916789\n",
              "max    152149.000000     19.149927     18.839681"
            ]
          },
          "metadata": {
            "tags": []
          },
          "execution_count": 11
        }
      ]
    },
    {
      "cell_type": "code",
      "metadata": {
        "id": "p_bhix5INCUn",
        "colab_type": "code",
        "outputId": "6d3451a7-40cc-4a37-98ce-3a8243a26ce1",
        "colab": {
          "base_uri": "https://localhost:8080/",
          "height": 233
        }
      },
      "source": [
        "df['road_segment_id']"
      ],
      "execution_count": 0,
      "outputs": [
        {
          "output_type": "execute_result",
          "data": {
            "text/plain": [
              "0        S0B3CGQ\n",
              "1        RYJYAPI\n",
              "2        U3KP57C\n",
              "3        RY0TRQ8\n",
              "4        8LOVJZ3\n",
              "          ...   \n",
              "53840    CZBWW0Z\n",
              "53841    7AKUBY4\n",
              "53842    YQCBO2Y\n",
              "53843    Z2OSI9E\n",
              "53844    GFX7S4B\n",
              "Name: road_segment_id, Length: 53845, dtype: object"
            ]
          },
          "metadata": {
            "tags": []
          },
          "execution_count": 12
        }
      ]
    },
    {
      "cell_type": "code",
      "metadata": {
        "id": "h0HwN3ftMLib",
        "colab_type": "code",
        "colab": {}
      },
      "source": [
        "crossdata=pd.crosstab(df['Occurrence Local Date Time'],df['road_segment_id'])\n",
        "crossdata=crossdata.reindex(df['road_segment_id'].unique(),axis=1)"
      ],
      "execution_count": 0,
      "outputs": []
    },
    {
      "cell_type": "code",
      "metadata": {
        "id": "QGzbbQH8dNkG",
        "colab_type": "code",
        "colab": {}
      },
      "source": [
        "crossdata"
      ],
      "execution_count": 0,
      "outputs": []
    },
    {
      "cell_type": "code",
      "metadata": {
        "id": "mWRsJXFDNx5H",
        "colab_type": "code",
        "outputId": "e05649e1-2d67-4c46-88d4-5bf2fd1e3765",
        "colab": {
          "base_uri": "https://localhost:8080/",
          "height": 35
        }
      },
      "source": [
        "crossdata.index.min() +\"  \"+crossdata.index.max()"
      ],
      "execution_count": 0,
      "outputs": [
        {
          "output_type": "execute_result",
          "data": {
            "text/plain": [
              "'2016-01-01 00:00:00  2018-12-31 23:00:00'"
            ]
          },
          "metadata": {
            "tags": []
          },
          "execution_count": 14
        }
      ]
    },
    {
      "cell_type": "code",
      "metadata": {
        "id": "roS9OuYMfMgP",
        "colab_type": "code",
        "colab": {}
      },
      "source": [
        "def create_inout_sequences_extarnal_data(input_data, tw):\n",
        "    inout_seq_external_data = []\n",
        "    L = len(input_data)\n",
        "    for i in range(L-tw):\n",
        "        train_seq_external_data = input_data[i:i+tw]\n",
        "        train_label = input_data[i+tw:i+tw+1]\n",
        "        inout_seq_external_data.append((train_seq_external_data,train_label))   \n",
        "    return inout_seq_external_data"
      ],
      "execution_count": 0,
      "outputs": []
    },
    {
      "cell_type": "code",
      "metadata": {
        "id": "ifCkhjUnfNhc",
        "colab_type": "code",
        "colab": {}
      },
      "source": [
        "timesseries=[]\n",
        "for zone in crossdata.columns :\n",
        "   timesseries.append(create_inout_sequences_extarnal_data(torch.tensor(crossdata[zone].values),8))\n",
        "\n",
        "timesseries    "
      ],
      "execution_count": 0,
      "outputs": []
    },
    {
      "cell_type": "code",
      "metadata": {
        "id": "EewIhAcHI2iZ",
        "colab_type": "code",
        "colab": {}
      },
      "source": [
        "torch.cat(timesseries[0][0][1])"
      ],
      "execution_count": 0,
      "outputs": []
    },
    {
      "cell_type": "code",
      "metadata": {
        "id": "l4Lp_jODCkZz",
        "colab_type": "code",
        "colab": {}
      },
      "source": [
        "\n",
        "\n",
        "inputlstm=torch.cat(timesseries)"
      ],
      "execution_count": 0,
      "outputs": []
    },
    {
      "cell_type": "code",
      "metadata": {
        "id": "NBS7Cw8oDxdB",
        "colab_type": "code",
        "colab": {}
      },
      "source": [
        "inputlstm[0]"
      ],
      "execution_count": 0,
      "outputs": []
    },
    {
      "cell_type": "code",
      "metadata": {
        "id": "SB4_knKlFk2r",
        "colab_type": "code",
        "colab": {}
      },
      "source": [
        "class Args:\n",
        "    def __init__(self):\n",
        "        self.cuda = True\n",
        "        self.no_cuda = False\n",
        "        self.seed = 1\n",
        "        self.batch_size = 50\n",
        "        self.test_batch_size = 1000\n",
        "        self.epochs = 10\n",
        "        self.lr = 0.01\n",
        "        self.momentum = 0.5\n",
        "        self.log_interval = 10\n",
        "        self.inputsize=1\n",
        "        self.hidden_size=128\n",
        "        self.output_size_linear_lstm=1\n",
        "        self.batsh_size=499\n",
        "        self.seq_len=8\n",
        "        self.date_rng = pd.to_datetime(pd.date_range(start='2019-08-01 00:00:00', end='2019-10-29 00:00:00', freq='H'))\n",
        "        self.segment_id=499\n",
        "\n",
        "args = Args()"
      ],
      "execution_count": 0,
      "outputs": []
    },
    {
      "cell_type": "code",
      "metadata": {
        "id": "elJ9x5OBj7HM",
        "colab_type": "code",
        "colab": {}
      },
      "source": [
        "\n",
        "#model DMLVST_DATA\n",
        "class RMSELoss(nn.Module):\n",
        "    def __init__(self):\n",
        "        super().__init__()\n",
        "        self.mse = nn.MSELoss()\n",
        "        \n",
        "    def forward(self,y_hats,y):\n",
        "        return torch.sum((y-y_hats)**2)\n",
        "        #return torch.sqrt(self.mse(yhat,y))\n",
        "\n",
        "args.cuda = not args.no_cuda and torch.cuda.is_available()\n",
        "\n",
        "torch.manual_seed(args.seed)\n",
        "if args.cuda:\n",
        "    torch.cuda.manual_seed(args.seed)\n",
        "\n",
        "kwargs = {'num_workers': 1, 'pin_memory': True} if args.cuda else {}\n",
        "\n",
        "class HackLstm(nn.Module):\n",
        "    def __init__(self,inputsize,hidden_size,output_size_linear_lstm,batsh_size,seq_len):\n",
        "        super(HackLstm, self).__init__()\n",
        "        self.batsh_size=batsh_size\n",
        "        self.inputsize=inputsize\n",
        "        self.seq_len=seq_len\n",
        "        self.hidden_size=hidden_size\n",
        "        self.output_size_linear_lstm=output_size_linear_lstm\n",
        "        self.lstm = nn.LSTM(inputsize,self.hidden_size)\n",
        "\n",
        "        self.linear = nn.Linear(self.hidden_size,output_size_linear_lstm)\n",
        "\n",
        "        self.hidden_cell = (torch.zeros(1,self.batsh_size,self.hidden_size),\n",
        "                            torch.zeros(1,self.batsh_size,self.hidden_size))\n",
        "    \n",
        "       \n",
        "    def forward(self, x):\n",
        "      \n",
        "        lstm_out, self.hidden_cell = self.lstm(input_lstm, self.hidden_cell)\n",
        "        predictions = self.linear(self.hidden_cell[0].view(self.batsh_size, -1))\n",
        "      \n",
        "        return  predictions \n",
        "\n",
        "\n",
        "\n",
        "\n",
        "\n",
        " \n"
      ],
      "execution_count": 0,
      "outputs": []
    },
    {
      "cell_type": "code",
      "metadata": {
        "id": "RQxPw8W1Jhlb",
        "colab_type": "code",
        "colab": {}
      },
      "source": [
        "model=HackLstm(args.inputsize,args.hidden_size,args.output_size_linear_lstm,args.batsh_size,args.seq_len)\n",
        "criterion =RMSELoss()\n",
        "#criterion = nn.MSELoss()\n",
        "#optimizer = optim.SGD(model.parameters(), lr=args.lr, momentum=args.momentum)\n",
        "optimizer = torch.optim.Adam(model.parameters(), lr=0.001 )\n",
        "\n",
        "for epoch in range (3) :\n",
        "   total_loss = []\n",
        "   #model.train()\n",
        "   for i in range(12000)  :\n",
        "        input_data=[]\n",
        "        y=[]\n",
        "        for j in range(args.segment_id) :\n",
        "            input_data.append(timesseries[j][i][0])\n",
        "            y.append(timesseries[j][i][1])\n",
        "        x_train_zones_seq=torch.cat(input_data)\n",
        "        x_train_zones_seq=x_train_zones_seq.view(args.seq_len,args.segment_id,1)\n",
        "        y_train_zones_seq=torch.from_numpy(np.array(y)).view(args.segment_id,-1) \n",
        "        model.hidden_cell[0].detach_()\n",
        "        model.hidden_cell[1].detach_()\n",
        "        optimizer.zero_grad()\n",
        "        output = model(x_train_zones_seq.float())\n",
        "        loss  = criterion(output, y_train_zones_seq.float())\n",
        "        loss.backward(retain_graph=False)\n",
        "        optimizer.step()\n",
        "        total_loss.append(loss.item())\n",
        "   print('sequence : ',i,'Avrage sequences loss :',(sum(total_loss)/len(total_loss)), 'The loss of the last sequence :', loss.item())    \n",
        "   if epoch % 3 == 0:\n",
        "           print('epoch: ',epoch,'Avrage sequences loss :',(sum(total_loss)/len(total_loss)), 'The loss of the last sequence :', loss.item())"
      ],
      "execution_count": 0,
      "outputs": []
    }
  ]
}